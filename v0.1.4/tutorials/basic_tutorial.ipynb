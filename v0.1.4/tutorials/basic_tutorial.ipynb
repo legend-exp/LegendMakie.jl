{
 "cells": [
  {
   "cell_type": "markdown",
   "source": [
    "# LegendMakie: Basic Tutorial"
   ],
   "metadata": {}
  },
  {
   "cell_type": "markdown",
   "source": [
    "Let us start by creating a simple `Makie` plot.\n",
    "\n",
    "For this, you will need to load a `Makie` package, e.g. `CairoMakie`."
   ],
   "metadata": {}
  },
  {
   "outputs": [],
   "cell_type": "code",
   "source": [
    "using CairoMakie"
   ],
   "metadata": {},
   "execution_count": null
  },
  {
   "cell_type": "markdown",
   "source": [
    "You can then compose a plot using the `Makie` API, see the documentation [here](https://docs.makie.org/stable/).\n",
    "\n",
    "You usually start by creating a `Makie.Figure` and a `Makie.Axis` and by then plotting into the axis.\n",
    "If no axis is passed to the plot functions, `Makie` plots into the `Makie.current_axis()`.\n",
    "Always make sure to end the cell with the `Makie.Figure` object or call `Makie.current_figure()`"
   ],
   "metadata": {}
  },
  {
   "outputs": [],
   "cell_type": "code",
   "source": [
    "fig = Figure(size = (400,400))\n",
    "ax = Axis(fig[1,1], xlabel = \"X\", ylabel = \"Y\", limits = ((0,1),(0,1)))\n",
    "lines!(ax, rand(10), rand(10))\n",
    "lines!(ax, rand(10), rand(10))\n",
    "lines!(rand(10), rand(10)) # also plots into ax\n",
    "lines!(rand(10), rand(10)) # also plots into ax\n",
    "fig"
   ],
   "metadata": {},
   "execution_count": null
  },
  {
   "cell_type": "markdown",
   "source": [
    "`Juleana`-related `Makie` code is collected in the GitHub repository [`LegendMakie`](https://github.com/legend-exp/LegendMakie.jl).\n",
    "Add this to your project by running `import Pkg; Pkg.add(url = \"https://github.com/legend-exp/LegendMakie.jl\")`\n",
    "\n",
    "`LegendMakie` defines `LegendTheme`, a `Makie` theme that includes the LEGEND style guide.\n",
    "Find the documentation on `Makie` themes [here](https://docs.makie.org/dev/explanations/theming/themes).\n",
    "\n",
    "When loading `LegendMakie`, the `LegendTheme` is automatically applied\n",
    "(The package explicitly runs `update_theme!(LegendTheme)`.)"
   ],
   "metadata": {}
  },
  {
   "outputs": [],
   "cell_type": "code",
   "source": [
    "import LegendMakie"
   ],
   "metadata": {},
   "execution_count": null
  },
  {
   "cell_type": "markdown",
   "source": [
    "Let us now create a the same figure to see the `LegendTheme` in action."
   ],
   "metadata": {}
  },
  {
   "outputs": [],
   "cell_type": "code",
   "source": [
    "fig = Figure(size = (400,400))\n",
    "ax = Axis(fig[1,1], xlabel = \"X\", ylabel = \"Y\", limits = ((0,1),(0,1)))\n",
    "lines!(rand(10), rand(10))\n",
    "lines!(rand(10), rand(10))\n",
    "lines!(rand(10), rand(10))\n",
    "lines!(rand(10), rand(10))\n",
    "fig"
   ],
   "metadata": {},
   "execution_count": null
  },
  {
   "cell_type": "markdown",
   "source": [
    "`LegendMakie` offers a convenience function `add_watermarks!` to add the `Juleana` logo"
   ],
   "metadata": {}
  },
  {
   "outputs": [],
   "cell_type": "code",
   "source": [
    "LegendMakie.add_watermarks!()"
   ],
   "metadata": {},
   "execution_count": null
  },
  {
   "cell_type": "markdown",
   "source": [
    "Let us now create a plot with histograms"
   ],
   "metadata": {}
  },
  {
   "outputs": [],
   "cell_type": "code",
   "source": [
    "fig = Figure(size = (600,400))\n",
    "ax = Axis(fig[1,1], limits = ((-5,5),(0,nothing)), xlabel = \"X\", ylabel = \"Counts\", xticks = -10:2:10)\n",
    "hist!(randn(10000), bins = -10:0.2:10)\n",
    "hist!(1.2 .* randn(8000) .+ 2, bins = -10:0.2:10)\n",
    "hist!(0.5.*randn(2000) .- 3, bins = -10:0.2:10)\n",
    "fig"
   ],
   "metadata": {},
   "execution_count": null
  },
  {
   "cell_type": "markdown",
   "source": [
    "You can also add the LEGEND logo instead of the Juleana logo by calling `legend_logo = true`"
   ],
   "metadata": {}
  },
  {
   "outputs": [],
   "cell_type": "code",
   "source": [
    "LegendMakie.add_watermarks!(legend_logo = true)"
   ],
   "metadata": {},
   "execution_count": null
  },
  {
   "cell_type": "markdown",
   "source": [
    "Let us now create a composite plot. We do so by creating a `Makie.GridLayout`\n",
    "and adding an `Makie.Axis` in that grid layout:"
   ],
   "metadata": {}
  },
  {
   "outputs": [],
   "cell_type": "code",
   "source": [
    "fig = Figure(size = (600,400))\n",
    "g = GridLayout(fig[1,1])\n",
    "ax = Axis(g[1,1], limits = ((-5,5),(0,nothing)), xlabel = \"X\", ylabel = \"Counts\", xticks = -10:2:10)\n",
    "hist!(randn(10000), bins = -10:0.2:10)\n",
    "hist!(1.2 .* randn(8000) .+ 2, bins = -10:0.2:10)\n",
    "hist!(0.5.*randn(2000) .- 3, bins = -10:0.2:10)\n",
    "LegendMakie.add_watermarks!()"
   ],
   "metadata": {},
   "execution_count": null
  },
  {
   "cell_type": "markdown",
   "source": [
    "We can also add a second plot to the existing one by creating a new `Makie.Axis`\n",
    "and linking the `x`-axes and setting the `rowgap!` to `0`"
   ],
   "metadata": {}
  },
  {
   "outputs": [],
   "cell_type": "code",
   "source": [
    "ax.xticklabelsize = 0\n",
    "ax.xticksize = 0\n",
    "ax.xlabel = \"\"\n",
    "\n",
    "ax2 = Axis(g[2,1], limits = ((-5,5),(0,nothing)), xlabel = \"X\", ylabel = \"Counts\", xticks = -10:2:10, yticks = 0:200:600)\n",
    "hist!(randn(10000) .+ 0.5, bins = -10:0.2:10)\n",
    "hist!(1.2.*randn(2000) .- 2, bins = -10:0.2:10)\n",
    "hist!(0.5.*randn(4000) .+ 2.5, bins = -10:0.2:10)\n",
    "linkxaxes!(ax,ax2)\n",
    "rowgap!(g,0)\n",
    "fig"
   ],
   "metadata": {},
   "execution_count": null
  },
  {
   "cell_type": "markdown",
   "source": [
    "---\n",
    "\n",
    "*This notebook was generated using [Literate.jl](https://github.com/fredrikekre/Literate.jl).*"
   ],
   "metadata": {}
  }
 ],
 "nbformat_minor": 3,
 "metadata": {
  "language_info": {
   "file_extension": ".jl",
   "mimetype": "application/julia",
   "name": "julia",
   "version": "1.11.5"
  },
  "kernelspec": {
   "name": "julia-1.11",
   "display_name": "Julia 1.11.5",
   "language": "julia"
  }
 },
 "nbformat": 4
}
